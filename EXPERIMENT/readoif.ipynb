{
 "cells": [
  {
   "cell_type": "code",
   "execution_count": 1,
   "metadata": {},
   "outputs": [],
   "source": [
    "# Read oif files. Use oiffile.py\n",
    "# oiffile.py from https://www.lfd.uci.edu/~gohlke/code/oiffile.py.html"
   ]
  },
  {
   "cell_type": "markdown",
   "metadata": {},
   "source": [
    "# Basic Microscopy display \n",
    "\n",
    "To do list\n",
    "* Read data meta\n",
    "    * open the meta folder by file name\n",
    "    * retrive all items and store in dictionary\n",
    "* Image display\n",
    "    * if is single time shot (3 dim)\n",
    "        display image\n",
    "    * if is time series\n",
    "        display video\n",
    "    * select and merge channel\n",
    "    * multiselect image"
   ]
  },
  {
   "cell_type": "markdown",
   "metadata": {},
   "source": [
    "# About Two-photon microscopy"
   ]
  },
  {
   "cell_type": "code",
   "execution_count": 56,
   "metadata": {},
   "outputs": [
    {
     "data": {
      "text/html": [
       "<iframe width=\"560\" height=\"315\" src=\"https://www.youtube.com/embed/CZifB2aQDDM\" frameborder=\"0\" allow=\"autoplay; encrypted-media\" allowfullscreen></iframe>"
      ],
      "text/plain": [
       "<IPython.core.display.HTML object>"
      ]
     },
     "execution_count": 56,
     "metadata": {},
     "output_type": "execute_result"
    }
   ],
   "source": [
    "from IPython.display import HTML\n",
    "HTML('<iframe width=\"560\" height=\"315\" src=\"https://www.youtube.com/embed/CZifB2aQDDM\" frameborder=\"0\" allow=\"autoplay; encrypted-media\" allowfullscreen></iframe>')"
   ]
  },
  {
   "cell_type": "code",
   "execution_count": 54,
   "metadata": {},
   "outputs": [],
   "source": [
    "import oiffile as oif #local library\n",
    "import matplotlib.pyplot as plt\n",
    "import warnings\n",
    "from ipywidgets import interact, interactive, fixed, interact_manual, FloatSlider\n",
    "import ipywidgets as widgets\n",
    "import os\n",
    "warnings.filterwarnings(\"ignore\")"
   ]
  },
  {
   "cell_type": "code",
   "execution_count": 71,
   "metadata": {},
   "outputs": [],
   "source": [
    "def imread(filepath):\n",
    "    \"\"\"\n",
    "    Read file and output numpy array and shape\n",
    "    \"\"\"\n",
    "    img = oif.imread(filepath)\n",
    "    return img\n",
    "\n",
    "def get_img_name(folder):\n",
    "    files = [os.path.join(folder, f) for f in os.listdir(folder) if os.path.isfile(os.path.join(folder, f))]\n",
    "    return files\n",
    "def is_time_series(img):\n",
    "    if len(img.shape) == 3:\n",
    "        return False\n",
    "    elif len(img.shape) == 4:\n",
    "        return True\n",
    "    else:\n",
    "        raise ValueError\n",
    "def plot(file, channel, figsize=(10,7)):\n",
    "    img = imread(file)\n",
    "    plt.figure(figsize=figsize)\n",
    "    plt.imshow(img[int(channel),:,:])"
   ]
  },
  {
   "cell_type": "code",
   "execution_count": 84,
   "metadata": {},
   "outputs": [],
   "source": [
    "files = get_img_name(\"mitochr2\")"
   ]
  },
  {
   "cell_type": "code",
   "execution_count": 60,
   "metadata": {},
   "outputs": [
    {
     "data": {
      "text/plain": [
       "True"
      ]
     },
     "execution_count": 60,
     "metadata": {},
     "output_type": "execute_result"
    }
   ],
   "source": [
    "img = imread(files[1])\n",
    "is_time_series(img)"
   ]
  },
  {
   "cell_type": "code",
   "execution_count": 52,
   "metadata": {},
   "outputs": [
    {
     "name": "stdout",
     "output_type": "stream",
     "text": [
      "(2, 512, 512)\n",
      "(4, 100, 512, 512)\n",
      "(2, 512, 512)\n",
      "(4, 100, 512, 512)\n",
      "(2, 39, 512, 512)\n",
      "(2, 512, 512)\n",
      "(2, 30, 512, 512)\n",
      "(4, 100, 512, 512)\n",
      "(2, 17, 512, 512)\n",
      "(2, 512, 512)\n",
      "(4, 100, 512, 512)\n",
      "(4, 17, 512, 512)\n",
      "(4, 21, 512, 512)\n",
      "(2, 17, 512, 512)\n",
      "(4, 512, 512)\n",
      "(2, 36, 512, 512)\n",
      "(2, 512, 512)\n",
      "(4, 512, 512)\n",
      "(4, 100, 512, 512)\n",
      "(4, 512, 512)\n",
      "(4, 512, 512)\n",
      "(4, 512, 512)\n",
      "(4, 512, 512)\n",
      "(2, 512, 512)\n",
      "(4, 512, 512)\n",
      "(4, 11, 512, 512)\n"
     ]
    }
   ],
   "source": [
    "for i in files:\n",
    "    img = imread(i)\n",
    "    print(img.shape)"
   ]
  },
  {
   "cell_type": "markdown",
   "metadata": {},
   "source": [
    "# READ IMAGE\n"
   ]
  },
  {
   "cell_type": "code",
   "execution_count": 49,
   "metadata": {},
   "outputs": [],
   "source": [
    "img= imread(\"mitochr2/B 940nm 3% zoom 2x.oif\")"
   ]
  },
  {
   "cell_type": "markdown",
   "metadata": {},
   "source": [
    "# Print image size\n"
   ]
  },
  {
   "cell_type": "code",
   "execution_count": 50,
   "metadata": {},
   "outputs": [
    {
     "name": "stdout",
     "output_type": "stream",
     "text": [
      "(2, 512, 512)\n"
     ]
    }
   ],
   "source": [
    "print(shape)"
   ]
  },
  {
   "cell_type": "markdown",
   "metadata": {},
   "source": [
    "# PLOT IMAGE\n"
   ]
  },
  {
   "cell_type": "code",
   "execution_count": 87,
   "metadata": {},
   "outputs": [
    {
     "data": {
      "application/vnd.jupyter.widget-view+json": {
       "model_id": "8799cf39619341aab6b35254f30d8a6b",
       "version_major": 2,
       "version_minor": 0
      },
      "text/plain": [
       "interactive(children=(Dropdown(description='file', options=('mitochr2/B 940nm 3% zoom 2x.oif', 'mitochr2/chr t…"
      ]
     },
     "metadata": {},
     "output_type": "display_data"
    }
   ],
   "source": [
    "channel_widget = FloatSlider(min=0, max=1, step=1)\n",
    "\n",
    "interact(plot, file=files, channel= channel_widget, figsize= fixed((10,10)));"
   ]
  },
  {
   "cell_type": "code",
   "execution_count": 80,
   "metadata": {},
   "outputs": [
    {
     "data": {
      "application/vnd.jupyter.widget-view+json": {
       "model_id": "64fb30664dd24dddbda5f50d47d68023",
       "version_major": 2,
       "version_minor": 0
      },
      "text/plain": [
       "interactive(children=(FloatSlider(value=0.0, description='x', max=10.0, step=0.05), FloatSlider(value=5.0, des…"
      ]
     },
     "metadata": {},
     "output_type": "display_data"
    }
   ],
   "source": [
    "x_widget = FloatSlider(min=0.0, max=10.0, step=0.05)\n",
    "y_widget = FloatSlider(min=0.5, max=10.0, step=0.05, value=5.0)\n",
    "\n",
    "def update_x_range(*args):\n",
    "    x_widget.max = 2.0 * y_widget.value\n",
    "y_widget.observe(update_x_range, 'value')\n",
    "\n",
    "def printer(x, y):\n",
    "    print(x, y)\n",
    "interact(printer,x=x_widget, y=y_widget);"
   ]
  },
  {
   "cell_type": "code",
   "execution_count": 68,
   "metadata": {},
   "outputs": [
    {
     "data": {
      "application/vnd.jupyter.widget-view+json": {
       "model_id": "9d5bb7dc2a4c45eeb489ece604d42f2a",
       "version_major": 2,
       "version_minor": 0
      },
      "text/plain": [
       "SelectMultiple(description='Image Name:', index=(0,), options=('mitochr2/B 940nm 3% zoom 2x.oif', 'mitochr2/ch…"
      ]
     },
     "metadata": {},
     "output_type": "display_data"
    }
   ],
   "source": [
    "widgets.SelectMultiple(\n",
    "    options=files,\n",
    "    value= [files[0]],\n",
    "    rows=10,\n",
    "    description='Image Name:',\n",
    "    disabled=False\n",
    ")"
   ]
  },
  {
   "cell_type": "code",
   "execution_count": null,
   "metadata": {},
   "outputs": [],
   "source": []
  }
 ],
 "metadata": {
  "kernel_info": {
   "name": "Untitled"
  },
  "kernelspec": {
   "display_name": "Python 3",
   "language": "python",
   "name": "python3"
  },
  "language_info": {
   "codemirror_mode": {
    "name": "ipython",
    "version": 3
   },
   "file_extension": ".py",
   "mimetype": "text/x-python",
   "name": "python",
   "nbconvert_exporter": "python",
   "pygments_lexer": "ipython3",
   "version": "3.6.4"
  }
 },
 "nbformat": 4,
 "nbformat_minor": 2
}
