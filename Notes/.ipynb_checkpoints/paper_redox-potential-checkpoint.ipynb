{
 "cells": [
  {
   "cell_type": "markdown",
   "metadata": {},
   "source": [
    "# Redox basics\n",
    "\n",
    "$$E_{h,pH=x} = E_{m,pH=x} + \\frac{2.3RT}{nF}log_{10}\\frac{[oxidised]}{[reduced]}$$\n",
    "\n",
    "where $E_{m,pH=x}$ is the midpoint potential\n",
    "\n",
    "# The pool size of glutathione is critifal for preventing oxidative stress in the mitochondria\n",
    "\n",
    "Proof:\n",
    "\n",
    "1. When standard conditnon (1M GSSG and 1M GSH), at $25^{o}C$ and pH 7.0\n",
    "    $$E^{o'}=-240 \\text{ mV}$$\n",
    "2. The total gluthaion pool concentration \n",
    "    $$[GSH] + 2[GSSH] = 10mM$$\n",
    "3. Typical for the cytoplasm, a thiol redox potential of -200 mV implies a concentration of [GSSG] of 1.2mM\n",
    "    $$-200 \\text{ mV } = E^{o'} + 30log_{10}\\frac{[GSSG]}{[10-2[GSSG]^{2}]}$$\n",
    "\n",
    "Then\n",
    "    $$[GSSG] = 1.2 mM$$\n",
    "    \n",
    "4. If  the pool size is lowered to 1mM, then [GSSG] must be decreased to 20 $\\mu M$ to maintain the redox potential.\n",
    "    * Causes problem of enzyme to reduce GSSG to GSH.\n",
    "    * Explain why a maintained pool size of glutahione is critical for preventing oxidative stress in the mitochondria\n",
    ":::"
   ]
  },
  {
   "cell_type": "code",
   "execution_count": null,
   "metadata": {},
   "outputs": [],
   "source": [
    "import matplotlib.pyplot as plt \n",
    "import math \n",
    "from sympy import *\n",
    "\n",
    "def redox_potential(E_standard, oxidised, reduced, n=2, T=25, R=8.314, F=96485.3329):\n",
    "    return E_standard + 2.3*R*T/n/F*log(oxidised/reduced)\n",
    "\n",
    "n=2; T=25; R=8.314; F=96485.3329\n",
    "# Physiological Value\n",
    "gssh = Symbol('GSSH')\n",
    "gss_pool = 10\n",
    "E_standard = -240\n",
    "thio_redox = -200\n",
    "gsh = gss_pool - 2 * gssh\n",
    "\n",
    "\n",
    "# Solving the concentration of GSSH in control\n",
    "# solve(redox_potential(E_standard, gsh, gssh), gssh)\n",
    "nsolve(E_standard + 2.3*R*T/n/F*log(gssh/gsh)+200, gssh)\n"
   ]
  },
  {
   "cell_type": "code",
   "execution_count": 16,
   "metadata": {},
   "outputs": [
    {
     "data": {
      "text/plain": [
       "GSSH"
      ]
     },
     "execution_count": 16,
     "metadata": {},
     "output_type": "execute_result"
    }
   ],
   "source": [
    "gssh"
   ]
  },
  {
   "cell_type": "code",
   "execution_count": 17,
   "metadata": {},
   "outputs": [
    {
     "data": {
      "text/plain": [
       "-2*GSSH + 10"
      ]
     },
     "execution_count": 17,
     "metadata": {},
     "output_type": "execute_result"
    }
   ],
   "source": [
    "gsh"
   ]
  },
  {
   "cell_type": "code",
   "execution_count": 22,
   "metadata": {},
   "outputs": [
    {
     "data": {
      "text/plain": [
       "[-sqrt(3), sqrt(3)]"
      ]
     },
     "execution_count": 22,
     "metadata": {},
     "output_type": "execute_result"
    }
   ],
   "source": [
    "from sympy.solvers import solve\n",
    "from sympy import Symbol, Eq\n",
    "x = Symbol('x')\n",
    "solve(Eq(x**2 - 1, 2), x)"
   ]
  },
  {
   "cell_type": "code",
   "execution_count": null,
   "metadata": {},
   "outputs": [],
   "source": []
  }
 ],
 "metadata": {
  "kernelspec": {
   "display_name": "Python 3",
   "language": "python",
   "name": "python3"
  },
  "language_info": {
   "codemirror_mode": {
    "name": "ipython",
    "version": 3
   },
   "file_extension": ".py",
   "mimetype": "text/x-python",
   "name": "python",
   "nbconvert_exporter": "python",
   "pygments_lexer": "ipython3",
   "version": "3.6.4"
  }
 },
 "nbformat": 4,
 "nbformat_minor": 2
}
