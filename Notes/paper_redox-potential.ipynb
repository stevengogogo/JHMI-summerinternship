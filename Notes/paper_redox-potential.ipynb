{
 "cells": [
  {
   "cell_type": "markdown",
   "metadata": {},
   "source": [
    "[Origingal notes](JHMI Paper Notes 20180712.md)"
   ]
  },
  {
   "cell_type": "markdown",
   "metadata": {},
   "source": [
    "# Redox basics\n",
    "\n",
    "$$E_{h,pH=x} = E_{m,pH=x} + \\frac{2.3RT}{nF}log_{10}\\frac{[oxidised]}{[reduced]}$$\n",
    "\n",
    "where $E_{m,pH=x}$ is the midpoint potential\n",
    "\n",
    "# The pool size of glutathione is critifal for preventing oxidative stress in the mitochondria\n",
    "\n",
    "Proof:\n",
    "\n",
    "1. When standard conditnon (1M GSSG and 1M GSH), at $25^{o}C$ and pH 7.0\n",
    "    $$E^{o'}=-240 \\text{ mV}$$\n",
    "2. The total gluthaion pool concentration \n",
    "    $$[GSH] + 2[GSSH] = 10mM$$\n",
    "3. Typical for the cytoplasm, a thiol redox potential of -200 mV implies a concentration of [GSSG] of 1.2mM\n",
    "    $$-200 \\text{ mV } = E^{o'} + 30log_{10}\\frac{[GSSG]}{[10-2[GSSG]^{2}]}$$\n",
    "\n",
    "Then\n",
    "    $$[GSSG] = 1.2 mM$$\n",
    "    \n",
    "4. If  the pool size is lowered to 1mM, then [GSSG] must be decreased to 20 $\\mu M$ to maintain the redox potential.\n",
    "    * Causes problem of enzyme to reduce GSSG to GSH.\n",
    "    * Explain why a maintained pool size of glutahione is critical for preventing oxidative stress in the mitochondria\n",
    ":::"
   ]
  },
  {
   "cell_type": "markdown",
   "metadata": {},
   "source": [
    "$$GSSH = \\frac{Total\\frac{E_{h}-E_{0}}{30}}{1 + \\frac{E_{h}-E_{0}}{30}}$$"
   ]
  },
  {
   "cell_type": "code",
   "execution_count": 82,
   "metadata": {},
   "outputs": [
    {
     "name": "stdout",
     "output_type": "stream",
     "text": [
      "High GSSH pool, GSSH= min [0.00154143890036426, 0.0648744494357635]\n",
      "Low GSSH pool, GSSH= [2.06631955341645e-5, 0.0483952251405936]\n"
     ]
    },
    {
     "data": {
      "image/png": "[encoded data removed]",
      "text/latex": [
       "$$\\frac{GssPool}{2} - \\frac{10^{\\frac{2}{3}}}{800} \\sqrt{80 \\sqrt[3]{10} GssPool + 1} + \\frac{10^{\\frac{2}{3}}}{800}$$"
      ],
      "text/plain": [
       "                   _______________________        \n",
       "            2/3   ╱    3 ____                  2/3\n",
       "GssPool   10   ⋅╲╱  80⋅╲╱ 10 ⋅GssPool + 1    10   \n",
       "─────── - ──────────────────────────────── + ─────\n",
       "   2                    800                   800 "
      ]
     },
     "execution_count": 82,
     "metadata": {},
     "output_type": "execute_result"
    }
   ],
   "source": [
    "import matplotlib.pyplot as plt \n",
    "import numpy as np\n",
    "from sympy import *\n",
    "init_printing()\n",
    "def GSSH_redox_potential(E_standard, oxidised, reduced):\n",
    "    \n",
    "    return E_standard + 30*(log(oxidised/reduced**2)/log(10))\n",
    "\n",
    "# Physiological Value\n",
    "gss_pool = var(\"GssPool\")\n",
    "gssh = Symbol('GSSH')\n",
    "gsh = gss_pool - 2 * gssh\n",
    "E_standard = -240\n",
    "thio_redox = -200\n",
    "\n",
    "print('High GSSH pool, GSSH= min',solve(GSSH_redox_potential(E_standard, gssh, 10e-3-gssh)-thio_redox\n",
    "            , gssh))\n",
    "print('Low GSSH pool, GSSH=',solve(GSSH_redox_potential(E_standard, gssh, 1e-3-gssh)-thio_redox\n",
    "            , gssh))\n",
    "\n",
    "# Solving the concentration of GSSH in control\n",
    "exp_gsshs = solve(GSSH_redox_potential(E_standard, gssh, gsh)-thio_redox, gssh)\n",
    "exp_gsshs[0]"
   ]
  },
  {
   "cell_type": "code",
   "execution_count": 92,
   "metadata": {},
   "outputs": [
    {
     "data": {
      "text/plain": [
       "Text(0.5,1,'GSS pool concentration - GSSH concentration')"
      ]
     },
     "execution_count": 92,
     "metadata": {},
     "output_type": "execute_result"
    },
    {
     "data": {
      "image/png": "[encoded data removed]",
      "text/plain": [
       "<Figure size 432x288 with 1 Axes>"
      ]
     },
     "metadata": {},
     "output_type": "display_data"
    }
   ],
   "source": [
    "# Store solution\n",
    "exp_gssh = exp_gsshs[0]\n",
    "gsspool = np.linspace(1e-3,10e-3,100)\n",
    "\n",
    "# Plotting seriers\n",
    "f = lambdify(gss_pool, exp_gssh, \"numpy\")\n",
    "plt.plot(gsspool, f(gsspool))\n",
    "plt.ylabel('GSSH concentration (M)')\n",
    "plt.xlabel('GSS Pool Concentration (M)')\n",
    "plt.title('GSS pool concentration - GSSH concentration')"
   ]
  },
  {
   "cell_type": "code",
   "execution_count": null,
   "metadata": {},
   "outputs": [],
   "source": []
  }
 ],
 "metadata": {
  "kernelspec": {
   "display_name": "Python 3",
   "language": "python",
   "name": "python3"
  },
  "language_info": {
   "codemirror_mode": {
    "name": "ipython",
    "version": 3
   },
   "file_extension": ".py",
   "mimetype": "text/x-python",
   "name": "python",
   "nbconvert_exporter": "python",
   "pygments_lexer": "ipython3",
   "version": "3.6.4"
  }
 },
 "nbformat": 4,
 "nbformat_minor": 2
}
